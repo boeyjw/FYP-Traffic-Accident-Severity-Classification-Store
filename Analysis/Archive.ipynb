{
 "cells": [
  {
   "cell_type": "markdown",
   "metadata": {},
   "source": [
    "# ACC 05"
   ]
  },
  {
   "cell_type": "code",
   "execution_count": null,
   "metadata": {},
   "outputs": [],
   "source": [
    "acc05 = acc.loc[acc.Year == 2005]\n",
    "acc05.describe()"
   ]
  },
  {
   "cell_type": "code",
   "execution_count": null,
   "metadata": {},
   "outputs": [],
   "source": [
    "fig_gaussian_coord = plt.figure(figsize=[20,15])\n",
    "\n",
    "for i in range(min(acc05.Month), max(acc05.Month) + 1):\n",
    "    sfig_gaussian_coord = fig_gaussian_coord.add_subplot(3, 4, i)\n",
    "    prealloc_acc05_data = acc05.loc[acc05.Month == i]\n",
    "    visualiseGaussianKDE(sfig_gaussian_coord, prealloc_acc05_data.Longitude, prealloc_acc05_data.Latitude)\n",
    "    sfig_gaussian_coord.set_title(i)\n",
    "\n",
    "fig_gaussian_coord.suptitle('Density plot of accidents by month for year 2015')\n",
    "set_pltxytxt(fig_gaussian_coord, 'xy', x='Longitude', y='Latitude')\n",
    "plt.show()"
   ]
  },
  {
   "cell_type": "code",
   "execution_count": null,
   "metadata": {},
   "outputs": [],
   "source": [
    "fig_acc05 = plt.figure(figsize=[20,35])\n",
    "drop_col = ['Accident_Index', 'Longitude', 'Latitude', 'Date', 'Time', 'Accident_Severity', 'Year', 'Minute']\n",
    "sfig_ind = bulkVisualiseHist(fig_acc05, acc05, drop_col, ncol=4, nrow=7)\n",
    "\n",
    "plt.show()"
   ]
  },
  {
   "cell_type": "markdown",
   "metadata": {},
   "source": [
    "# CAS 05"
   ]
  },
  {
   "cell_type": "code",
   "execution_count": null,
   "metadata": {},
   "outputs": [],
   "source": [
    "cas05 = cas.merge(acc05, on='Accident_Index', how='inner')\n",
    "cas05.drop(acc05.columns.drop('Accident_Index'), axis=1, inplace=True)\n",
    "cas05.describe()"
   ]
  },
  {
   "cell_type": "code",
   "execution_count": null,
   "metadata": {},
   "outputs": [],
   "source": [
    "fig_cas05 = plt.figure(figsize=[20,15])\n",
    "drop_col = ['Accident_Index']\n",
    "bulkVisualiseHist(fig=fig_cas05, data=cas05, drop_col=drop_col, ncol=4)\n",
    "plt.show()"
   ]
  },
  {
   "cell_type": "markdown",
   "metadata": {},
   "source": [
    "# VEH 05"
   ]
  },
  {
   "cell_type": "code",
   "execution_count": null,
   "metadata": {},
   "outputs": [],
   "source": [
    "veh05 = veh.merge(acc05, on='Accident_Index', how='inner')\n",
    "veh05.drop(acc05.columns.drop('Accident_Index'), axis=1, inplace=True)\n",
    "veh05.describe()"
   ]
  },
  {
   "cell_type": "code",
   "execution_count": null,
   "metadata": {},
   "outputs": [],
   "source": [
    "fig_veh05 = plt.figure(figsize=[20,15])\n",
    "drop_col = ['Accident_Index']\n",
    "bulkVisualiseHist(fig_veh05, veh05, drop_col, 4)\n",
    "plt.show()"
   ]
  },
  {
   "cell_type": "markdown",
   "metadata": {},
   "source": [
    "# Look for missing values in dataset"
   ]
  },
  {
   "cell_type": "code",
   "execution_count": null,
   "metadata": {},
   "outputs": [],
   "source": [
    "def checkNegOne(data, **kwargs):\n",
    "    data_cols = data.columns\n",
    "    if 'dropcol' in kwargs:\n",
    "        data_cols = data_cols.drop(kwargs['dropcol'])\n",
    "    data_len = len(data)\n",
    "    data_range = range(0, len(data) - 1)\n",
    "    \n",
    "    cnt_negs = dict()\n",
    "    for col in data_cols:\n",
    "        if np.issubdtype(data[col].loc[1], np.number):\n",
    "            len_negs = len(list(filter(lambda x: x == -1, data[col])))\n",
    "            if len_negs > 0:\n",
    "                cnt_negs[col] = [len_negs, ((len_negs/data_len) * 100)]\n",
    "    \n",
    "    return cnt_negs\n",
    "\n",
    "acc_negs = checkNegOne(acc, dropcol=['Accident_Index', 'Local_Authority_Highway', 'Longitude', 'Latitude', 'Date', 'Time'])\n",
    "cas_negs = checkNegOne(cas, dropcol=['Accident_Index'])\n",
    "veh_negs = checkNegOne(veh, dropcol=['Accident_Index'])"
   ]
  }
 ],
 "metadata": {
  "kernelspec": {
   "display_name": "Python 3",
   "language": "python",
   "name": "python3"
  },
  "language_info": {
   "codemirror_mode": {
    "name": "ipython",
    "version": 3
   },
   "file_extension": ".py",
   "mimetype": "text/x-python",
   "name": "python",
   "nbconvert_exporter": "python",
   "pygments_lexer": "ipython3",
   "version": "3.6.3"
  }
 },
 "nbformat": 4,
 "nbformat_minor": 2
}
