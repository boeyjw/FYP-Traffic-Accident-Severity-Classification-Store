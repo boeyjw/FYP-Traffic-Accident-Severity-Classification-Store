{
 "cells": [
  {
   "cell_type": "code",
   "execution_count": 2,
   "metadata": {},
   "outputs": [
    {
     "name": "stderr",
     "output_type": "stream",
     "text": [
      "D:\\Anaconda3\\envs\\FYP_TAP_ENV\\lib\\site-packages\\h5py\\__init__.py:36: FutureWarning: Conversion of the second argument of issubdtype from `float` to `np.floating` is deprecated. In future, it will be treated as `np.float64 == np.dtype(float).type`.\n",
      "  from ._conv import register_converters as _register_converters\n",
      "Using TensorFlow backend.\n"
     ]
    }
   ],
   "source": [
    "import pprint as pp\n",
    "import pandas as pd\n",
    "import numpy as np\n",
    "import matplotlib.pyplot as plt\n",
    "import seaborn as sns\n",
    "import missingno as msno\n",
    "import xgboost as xgb\n",
    "import copy as cp\n",
    "import geoplot as gplt\n",
    "import geopandas as gpd\n",
    "%matplotlib inline\n",
    "sns.set_style(\"white\")\n",
    "\n",
    "from geoplot import crs as gcrs\n",
    "from shapely.geometry import Point, Polygon\n",
    "from itertools import chain, product, cycle\n",
    "from collections import Counter, OrderedDict\n",
    "from pandas.tseries.offsets import BDay\n",
    "from pandas.tseries.holiday import *\n",
    "from sklearn.preprocessing import MinMaxScaler, StandardScaler, LabelEncoder\n",
    "from sklearn.model_selection import train_test_split\n",
    "from sklearn.metrics import confusion_matrix\n",
    "from sklearn.externals import joblib\n",
    "from tap import modelmetrics, modelparams\n",
    "from IPython.display import Image, display, HTML\n",
    "from keras.utils import plot_model\n",
    "from keras.models import load_model"
   ]
  },
  {
   "cell_type": "code",
   "execution_count": 3,
   "metadata": {},
   "outputs": [
    {
     "name": "stderr",
     "output_type": "stream",
     "text": [
      "D:\\Anaconda3\\envs\\FYP_TAP_ENV\\lib\\site-packages\\IPython\\core\\interactiveshell.py:2785: DtypeWarning: Columns (31) have mixed types. Specify dtype option on import or set low_memory=False.\n",
      "  interactivity=interactivity, compiler=compiler, result=result)\n"
     ]
    }
   ],
   "source": [
    "accidents = pd.read_csv(\"./pointer/acc2005_2016.csv\")\n",
    "accidents_processed = pd.read_csv(\"./pointer/acc2005_2016.proc.csv\")\n",
    "accidents_imputed = pd.read_csv(\"./Imputation/2.5/acc2005_2015-v2018.2.5.imp.csv\")"
   ]
  },
  {
   "cell_type": "code",
   "execution_count": 8,
   "metadata": {},
   "outputs": [
    {
     "name": "stdout",
     "output_type": "stream",
     "text": [
      "X2nd_Road_Number\n",
      "Pedestrian_Crossing.Human_Control\n",
      "Pedestrian_Crossing.Physical_Facilities\n",
      "Light_Conditions\n"
     ]
    }
   ],
   "source": [
    "for col in accidents.columns[21:25]:\n",
    "    print(col)"
   ]
  },
  {
   "cell_type": "code",
   "execution_count": 4,
   "metadata": {},
   "outputs": [
    {
     "name": "stdout",
     "output_type": "stream",
     "text": [
      "X2nd_Road_Class\n",
      "Pedestrian_Crossing_Human_Control\n",
      "Pedestrian_Crossing_Physical_Facilities\n",
      "Light_Conditions\n"
     ]
    }
   ],
   "source": [
    "for col in accidents_processed.columns[15:19]:\n",
    "    print(col)"
   ]
  },
  {
   "cell_type": "code",
   "execution_count": 14,
   "metadata": {},
   "outputs": [
    {
     "data": {
      "text/html": [
       "<div>\n",
       "<style scoped>\n",
       "    .dataframe tbody tr th:only-of-type {\n",
       "        vertical-align: middle;\n",
       "    }\n",
       "\n",
       "    .dataframe tbody tr th {\n",
       "        vertical-align: top;\n",
       "    }\n",
       "\n",
       "    .dataframe thead th {\n",
       "        text-align: right;\n",
       "    }\n",
       "</style>\n",
       "<table border=\"1\" class=\"dataframe\">\n",
       "  <thead>\n",
       "    <tr style=\"text-align: right;\">\n",
       "      <th></th>\n",
       "      <th>Accident_Index</th>\n",
       "      <th>Location_Easting_OSGR</th>\n",
       "      <th>Location_Northing_OSGR</th>\n",
       "      <th>Longitude</th>\n",
       "      <th>Latitude</th>\n",
       "      <th>Police_Force</th>\n",
       "      <th>Accident_Severity</th>\n",
       "      <th>Number_of_Vehicles</th>\n",
       "      <th>Number_of_Casualties</th>\n",
       "      <th>Date</th>\n",
       "      <th>...</th>\n",
       "      <th>Pedestrian_Crossing.Human_Control</th>\n",
       "      <th>Pedestrian_Crossing.Physical_Facilities</th>\n",
       "      <th>Light_Conditions</th>\n",
       "      <th>Weather_Conditions</th>\n",
       "      <th>Road_Surface_Conditions</th>\n",
       "      <th>Special_Conditions_at_Site</th>\n",
       "      <th>Carriageway_Hazards</th>\n",
       "      <th>Urban_or_Rural_Area</th>\n",
       "      <th>Did_Police_Officer_Attend_Scene_of_Accident</th>\n",
       "      <th>LSOA_of_Accident_Location</th>\n",
       "    </tr>\n",
       "  </thead>\n",
       "  <tbody>\n",
       "    <tr>\n",
       "      <th>1761908</th>\n",
       "      <td>2015521507211</td>\n",
       "      <td>361824.0</td>\n",
       "      <td>173552.0</td>\n",
       "      <td>-2.550877</td>\n",
       "      <td>51.459648</td>\n",
       "      <td>52</td>\n",
       "      <td>3</td>\n",
       "      <td>2</td>\n",
       "      <td>1</td>\n",
       "      <td>13/08/2015</td>\n",
       "      <td>...</td>\n",
       "      <td>0</td>\n",
       "      <td>0</td>\n",
       "      <td>4</td>\n",
       "      <td>1</td>\n",
       "      <td>1</td>\n",
       "      <td>0</td>\n",
       "      <td>0</td>\n",
       "      <td>1</td>\n",
       "      <td>2</td>\n",
       "      <td>E01014681</td>\n",
       "    </tr>\n",
       "  </tbody>\n",
       "</table>\n",
       "<p>1 rows × 32 columns</p>\n",
       "</div>"
      ],
      "text/plain": [
       "        Accident_Index  Location_Easting_OSGR  Location_Northing_OSGR  \\\n",
       "1761908  2015521507211               361824.0                173552.0   \n",
       "\n",
       "         Longitude   Latitude  Police_Force  Accident_Severity  \\\n",
       "1761908  -2.550877  51.459648            52                  3   \n",
       "\n",
       "         Number_of_Vehicles  Number_of_Casualties        Date  \\\n",
       "1761908                   2                     1  13/08/2015   \n",
       "\n",
       "                   ...              Pedestrian_Crossing.Human_Control  \\\n",
       "1761908            ...                                              0   \n",
       "\n",
       "        Pedestrian_Crossing.Physical_Facilities  Light_Conditions  \\\n",
       "1761908                                       0                 4   \n",
       "\n",
       "        Weather_Conditions  Road_Surface_Conditions  \\\n",
       "1761908                  1                        1   \n",
       "\n",
       "         Special_Conditions_at_Site  Carriageway_Hazards  Urban_or_Rural_Area  \\\n",
       "1761908                           0                    0                    1   \n",
       "\n",
       "         Did_Police_Officer_Attend_Scene_of_Accident  \\\n",
       "1761908                                            2   \n",
       "\n",
       "         LSOA_of_Accident_Location  \n",
       "1761908                  E01014681  \n",
       "\n",
       "[1 rows x 32 columns]"
      ]
     },
     "execution_count": 14,
     "metadata": {},
     "output_type": "execute_result"
    }
   ],
   "source": [
    "accidents[accidents[\"Speed_limit\"] == 0]"
   ]
  },
  {
   "cell_type": "code",
   "execution_count": 15,
   "metadata": {},
   "outputs": [
    {
     "data": {
      "text/html": [
       "<div>\n",
       "<style scoped>\n",
       "    .dataframe tbody tr th:only-of-type {\n",
       "        vertical-align: middle;\n",
       "    }\n",
       "\n",
       "    .dataframe tbody tr th {\n",
       "        vertical-align: top;\n",
       "    }\n",
       "\n",
       "    .dataframe thead th {\n",
       "        text-align: right;\n",
       "    }\n",
       "</style>\n",
       "<table border=\"1\" class=\"dataframe\">\n",
       "  <thead>\n",
       "    <tr style=\"text-align: right;\">\n",
       "      <th></th>\n",
       "      <th>Accident_Index</th>\n",
       "      <th>Location_Easting_OSGR</th>\n",
       "      <th>Location_Northing_OSGR</th>\n",
       "      <th>Longitude</th>\n",
       "      <th>Latitude</th>\n",
       "      <th>Accident_Severity</th>\n",
       "      <th>Number_of_Vehicles</th>\n",
       "      <th>Number_of_Casualties</th>\n",
       "      <th>Day_of_Week</th>\n",
       "      <th>Local_Authority_Highway</th>\n",
       "      <th>...</th>\n",
       "      <th>Weather_Conditions</th>\n",
       "      <th>Road_Surface_Conditions</th>\n",
       "      <th>Special_Conditions_at_Site</th>\n",
       "      <th>Carriageway_Hazards</th>\n",
       "      <th>Urban_or_Rural_Area</th>\n",
       "      <th>Date_Time</th>\n",
       "      <th>Is_Holiday</th>\n",
       "      <th>Year</th>\n",
       "      <th>Month</th>\n",
       "      <th>Hour</th>\n",
       "    </tr>\n",
       "  </thead>\n",
       "  <tbody>\n",
       "  </tbody>\n",
       "</table>\n",
       "<p>0 rows × 29 columns</p>\n",
       "</div>"
      ],
      "text/plain": [
       "Empty DataFrame\n",
       "Columns: [Accident_Index, Location_Easting_OSGR, Location_Northing_OSGR, Longitude, Latitude, Accident_Severity, Number_of_Vehicles, Number_of_Casualties, Day_of_Week, Local_Authority_Highway, X1st_Road_Class, Road_Type, Speed_Limit, Junction_Detail, Junction_Control, X2nd_Road_Class, Pedestrian_Crossing_Human_Control, Pedestrian_Crossing_Physical_Facilities, Light_Conditions, Weather_Conditions, Road_Surface_Conditions, Special_Conditions_at_Site, Carriageway_Hazards, Urban_or_Rural_Area, Date_Time, Is_Holiday, Year, Month, Hour]\n",
       "Index: []\n",
       "\n",
       "[0 rows x 29 columns]"
      ]
     },
     "execution_count": 15,
     "metadata": {},
     "output_type": "execute_result"
    }
   ],
   "source": [
    "accidents_processed[accidents_processed[\"Speed_Limit\"] == 0]"
   ]
  },
  {
   "cell_type": "code",
   "execution_count": 19,
   "metadata": {},
   "outputs": [
    {
     "data": {
      "text/plain": [
       "X2nd_Road_Class                            789860\n",
       "X2nd_Road_Number                            17440\n",
       "Pedestrian_Crossing.Human_Control             346\n",
       "Pedestrian_Crossing.Physical_Facilities       795\n",
       "Light_Conditions                               13\n",
       "dtype: int64"
      ]
     },
     "execution_count": 19,
     "metadata": {},
     "output_type": "execute_result"
    }
   ],
   "source": [
    "accidents.replace(-1, np.nan).isnull().sum()[20:25]"
   ]
  },
  {
   "cell_type": "code",
   "execution_count": 14,
   "metadata": {},
   "outputs": [
    {
     "data": {
      "text/plain": [
       "X2nd_Road_Class                            783378\n",
       "Pedestrian_Crossing_Human_Control             329\n",
       "Pedestrian_Crossing_Physical_Facilities       499\n",
       "Light_Conditions                               10\n",
       "dtype: int64"
      ]
     },
     "execution_count": 14,
     "metadata": {},
     "output_type": "execute_result"
    }
   ],
   "source": [
    "accidents_processed.isnull().sum()[15:19]"
   ]
  },
  {
   "cell_type": "code",
   "execution_count": 17,
   "metadata": {},
   "outputs": [
    {
     "data": {
      "text/plain": [
       "Pedestrian_Crossing_Physical_Facilities    0\n",
       "Light_Conditions                           0\n",
       "dtype: int64"
      ]
     },
     "execution_count": 17,
     "metadata": {},
     "output_type": "execute_result"
    }
   ],
   "source": [
    "accidents_imputed.isnull().sum()[12:14]"
   ]
  },
  {
   "cell_type": "code",
   "execution_count": 18,
   "metadata": {},
   "outputs": [
    {
     "data": {
      "text/plain": [
       "Accident_Index         0\n",
       "Longitude            133\n",
       "Latitude             133\n",
       "Accident_Severity      0\n",
       "dtype: int64"
      ]
     },
     "execution_count": 18,
     "metadata": {},
     "output_type": "execute_result"
    }
   ],
   "source": [
    "accidents_imputed.merge(\n",
    "    accidents[[\"Accident_Index\", \"Longitude\", \"Latitude\"]], on=\"Accident_Index\", \n",
    "    how=\"left\").isnull().sum()[[\"Accident_Index\", \"Longitude\", \"Latitude\", \"Accident_Severity\"]]"
   ]
  },
  {
   "cell_type": "code",
   "execution_count": null,
   "metadata": {},
   "outputs": [],
   "source": []
  }
 ],
 "metadata": {
  "kernelspec": {
   "display_name": "Python 3",
   "language": "python",
   "name": "python3"
  },
  "language_info": {
   "codemirror_mode": {
    "name": "ipython",
    "version": 3
   },
   "file_extension": ".py",
   "mimetype": "text/x-python",
   "name": "python",
   "nbconvert_exporter": "python",
   "pygments_lexer": "ipython3",
   "version": "3.6.3"
  }
 },
 "nbformat": 4,
 "nbformat_minor": 2
}
